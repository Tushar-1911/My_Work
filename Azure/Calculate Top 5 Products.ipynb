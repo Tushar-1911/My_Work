{
  "nbformat": 4,
  "nbformat_minor": 2,
  "metadata": {
    "kernelspec": {
      "name": "synapse_pyspark",
      "display_name": "Synapse PySpark"
    },
    "language_info": {
      "name": "python"
    },
    "description": null,
    "save_output": true,
    "synapse_widget": {
      "version": "0.1",
      "state": {
        "76759456-3a39-4407-8852-62235c2bf41e": {
          "type": "Synapse.DataFrame",
          "sync_state": {
            "table": {
              "rows": [
                {
                  "0": "80451",
                  "1": "1815",
                  "2": "46",
                  "4": "80451",
                  "5": "true",
                  "6": "false"
                },
                {
                  "0": "80579",
                  "1": "2973",
                  "2": "15",
                  "3": "626",
                  "4": "80579",
                  "5": "true",
                  "6": "true"
                },
                {
                  "0": "80579",
                  "1": "2973",
                  "2": "15",
                  "3": "3388",
                  "4": "80579",
                  "5": "true",
                  "6": "true"
                },
                {
                  "0": "80579",
                  "1": "2973",
                  "2": "15",
                  "3": "3467",
                  "4": "80579",
                  "5": "true",
                  "6": "true"
                },
                {
                  "0": "80579",
                  "1": "2973",
                  "2": "15",
                  "3": "1998",
                  "4": "80579",
                  "5": "true",
                  "6": "true"
                },
                {
                  "0": "80579",
                  "1": "2973",
                  "2": "15",
                  "3": "665",
                  "4": "80579",
                  "5": "true",
                  "6": "true"
                },
                {
                  "0": "80579",
                  "1": "2973",
                  "2": "15",
                  "3": "924",
                  "4": "80579",
                  "5": "true",
                  "6": "true"
                },
                {
                  "0": "80579",
                  "1": "2973",
                  "2": "15",
                  "3": "1546",
                  "4": "80579",
                  "5": "true",
                  "6": "true"
                },
                {
                  "0": "80579",
                  "1": "2156",
                  "2": "31",
                  "3": "626",
                  "4": "80579",
                  "5": "true",
                  "6": "true"
                },
                {
                  "0": "80579",
                  "1": "2156",
                  "2": "31",
                  "3": "3388",
                  "4": "80579",
                  "5": "true",
                  "6": "true"
                }
              ],
              "schema": [
                {
                  "key": "0",
                  "name": "visitorId",
                  "type": "int"
                },
                {
                  "key": "1",
                  "name": "productId",
                  "type": "int"
                },
                {
                  "key": "2",
                  "name": "itemsPurchasedLast12Months",
                  "type": "int"
                },
                {
                  "key": "3",
                  "name": "preferredProductId",
                  "type": "int"
                },
                {
                  "key": "4",
                  "name": "userId",
                  "type": "int"
                },
                {
                  "key": "5",
                  "name": "isTopProduct",
                  "type": "boolean"
                },
                {
                  "key": "6",
                  "name": "isPreferredProduct",
                  "type": "boolean"
                }
              ],
              "truncated": false
            },
            "isSummary": false,
            "language": "scala"
          },
          "persist_state": {
            "view": {
              "type": "details",
              "tableOptions": {},
              "chartOptions": {
                "chartType": "bar",
                "aggregationType": "sum",
                "categoryFieldKeys": [
                  "1"
                ],
                "seriesFieldKeys": [
                  "0"
                ],
                "isStacked": false
              }
            }
          }
        }
      }
    }
  },
  "cells": [
    {
      "cell_type": "code",
      "execution_count": 1,
      "outputs": [
        {
          "output_type": "display_data",
          "data": {
            "application/vnd.livy.statement-meta+json": {
              "spark_pool": "SparkPool01",
              "session_id": "8",
              "statement_id": 1,
              "state": "finished",
              "livy_statement_state": "available",
              "queued_time": "2022-12-09T13:28:39.5461246Z",
              "session_start_time": "2022-12-09T13:28:39.5937832Z",
              "execution_start_time": "2022-12-09T13:31:55.7961847Z",
              "execution_finish_time": "2022-12-09T13:32:31.4308236Z",
              "spark_jobs": null
            },
            "text/plain": "StatementMeta(SparkPool01, 8, 1, Finished, Available)"
          },
          "metadata": {}
        },
        {
          "output_type": "display_data",
          "data": {
            "application/vnd.synapse.widget-view+json": {
              "widget_id": "76759456-3a39-4407-8852-62235c2bf41e",
              "widget_type": "Synapse.DataFrame"
            },
            "text/plain": "SynapseWidget(Synapse.DataFrame, 76759456-3a39-4407-8852-62235c2bf41e)"
          },
          "metadata": {}
        }
      ],
      "metadata": {
        "microsoft": {
          "language": "python"
        },
        "collapsed": false
      },
      "source": [
        "%%pyspark\r\n",
        "df = spark.read.load('abfss://wwi-02@asadatalakeg3xbtcv.dfs.core.windows.net/top-products/*.parquet', format='parquet')\r\n",
        "display(df.limit(10))"
      ]
    },
    {
      "cell_type": "code",
      "execution_count": 2,
      "outputs": [
        {
          "output_type": "display_data",
          "data": {
            "application/vnd.livy.statement-meta+json": {
              "spark_pool": "SparkPool01",
              "session_id": "8",
              "statement_id": 2,
              "state": "finished",
              "livy_statement_state": "available",
              "queued_time": "2022-12-09T13:32:44.1679007Z",
              "session_start_time": null,
              "execution_start_time": "2022-12-09T13:32:44.3292863Z",
              "execution_finish_time": "2022-12-09T13:32:46.2712796Z",
              "spark_jobs": null
            },
            "text/plain": "StatementMeta(SparkPool01, 8, 2, Finished, Available)"
          },
          "metadata": {}
        },
        {
          "output_type": "stream",
          "name": "stdout",
          "text": [
            "+------+---------+--------------------------+------------+------------------+\n|UserId|ProductId|ItemsPurchasedLast12Months|IsTopProduct|IsPreferredProduct|\n+------+---------+--------------------------+------------+------------------+\n|   148|     2717|                      null|       false|              true|\n|   148|     4002|                      null|       false|              true|\n|   148|     1716|                      null|       false|              true|\n|   148|     4520|                      null|       false|              true|\n|   148|      951|                      null|       false|              true|\n|   148|     1817|                      null|       false|              true|\n|   463|     2634|                      null|       false|              true|\n|   463|     2795|                      null|       false|              true|\n|   471|     1946|                      null|       false|              true|\n|   471|     4431|                      null|       false|              true|\n|   471|      566|                      null|       false|              true|\n|   471|     2179|                      null|       false|              true|\n|   471|     3758|                      null|       false|              true|\n|   471|     2434|                      null|       false|              true|\n|   471|     1793|                      null|       false|              true|\n|   471|     1620|                      null|       false|              true|\n|   471|     1572|                      null|       false|              true|\n|   833|      957|                      null|       false|              true|\n|   833|     3140|                      null|       false|              true|\n|   833|     1087|                      null|       false|              true|\n|   833|       66|                      null|       false|              true|\n|  1342|      297|                      null|       false|              true|\n|  1342|     3034|                      null|       false|              true|\n|  1342|     3561|                      null|       false|              true|\n|  1580|     3507|                      null|       false|              true|\n|  1580|      933|                      null|       false|              true|\n|  1580|     3016|                      null|       false|              true|\n|  1580|     2383|                      null|       false|              true|\n|  1580|     2621|                      null|       false|              true|\n|  1580|     4373|                      null|       false|              true|\n|  1580|     2017|                      null|       false|              true|\n|  1580|      546|                      null|       false|              true|\n|  1580|      281|                      null|       false|              true|\n|  1591|     2646|                      null|       false|              true|\n|  1645|     4684|                      null|       false|              true|\n|  1645|     3344|                      null|       false|              true|\n|  1829|     4781|                      null|       false|              true|\n|  1829|     1021|                      null|       false|              true|\n|  1829|     1868|                      null|       false|              true|\n|  1829|     2478|                      null|       false|              true|\n|  1829|     4670|                      null|       false|              true|\n|  1829|     3740|                      null|       false|              true|\n|  1829|     4179|                      null|       false|              true|\n|  1959|     1805|                      null|       false|              true|\n|  1959|      205|                      null|       false|              true|\n|  1959|     1125|                      null|       false|              true|\n|  1959|     1499|                      null|       false|              true|\n|  1959|     4363|                      null|       false|              true|\n|  1959|     3634|                      null|       false|              true|\n|  1959|     2799|                      null|       false|              true|\n|  2122|     3130|                      null|       false|              true|\n|  2122|     3438|                      null|       false|              true|\n|  2122|     1226|                      null|       false|              true|\n|  2122|      245|                      null|       false|              true|\n|  2122|      820|                      null|       false|              true|\n|  2122|     4273|                      null|       false|              true|\n|  2122|      745|                      null|       false|              true|\n|  2122|     3908|                      null|       false|              true|\n|  2122|      159|                      null|       false|              true|\n|  2366|     1927|                      null|       false|              true|\n|  2366|     3457|                      null|       false|              true|\n|  2659|     3542|                      null|       false|              true|\n|  2659|     2554|                      null|       false|              true|\n|  2659|     1878|                      null|       false|              true|\n|  2659|     2573|                      null|       false|              true|\n|  2659|     2635|                      null|       false|              true|\n|  2659|     3844|                      null|       false|              true|\n|  2659|      730|                      null|       false|              true|\n|  2659|     2260|                      null|       false|              true|\n|  3749|     2172|                      null|       false|              true|\n|  3749|     2817|                      null|       false|              true|\n|  3749|     4581|                      null|       false|              true|\n|  3749|     1619|                      null|       false|              true|\n|  3749|     4874|                      null|       false|              true|\n|  3794|     1304|                      null|       false|              true|\n|  3794|     4766|                      null|       false|              true|\n|  3794|     1033|                      null|       false|              true|\n|  3794|     2819|                      null|       false|              true|\n|  3918|     2600|                      null|       false|              true|\n|  3918|      423|                      null|       false|              true|\n|  3918|     2756|                      null|       false|              true|\n|  3918|     3555|                      null|       false|              true|\n|  3918|       56|                      null|       false|              true|\n|  3997|     3806|                      null|       false|              true|\n|  3997|     3726|                      null|       false|              true|\n|  3997|      617|                      null|       false|              true|\n|  4101|       80|                      null|       false|              true|\n|  4101|        3|                      null|       false|              true|\n|  4101|      142|                      null|       false|              true|\n|  4101|     4511|                      null|       false|              true|\n|  4101|     3391|                      null|       false|              true|\n|  4101|     4200|                      null|       false|              true|\n|  4519|     3642|                      null|       false|              true|\n|  4519|     4918|                      null|       false|              true|\n|  4519|     4889|                      null|       false|              true|\n|  4519|     1049|                      null|       false|              true|\n|  4818|     1738|                      null|       false|              true|\n|  4818|     2972|                      null|       false|              true|\n|  4818|      317|                      null|       false|              true|\n|  4818|      736|                      null|       false|              true|\n+------+---------+--------------------------+------------+------------------+\nonly showing top 100 rows\n\n"
          ]
        }
      ],
      "metadata": {
        "jupyter": {
          "source_hidden": false,
          "outputs_hidden": false
        },
        "nteract": {
          "transient": {
            "deleting": false
          }
        }
      },
      "source": [
        "topPurchases = df.select(\r\n",
        "    \"UserId\", \"ProductId\",\r\n",
        "    \"ItemsPurchasedLast12Months\", \"IsTopProduct\",\r\n",
        "    \"IsPreferredProduct\")\r\n",
        "\r\n",
        "# Populate a temporary view so we can query from SQL\r\n",
        "topPurchases.createOrReplaceTempView(\"top_purchases\")\r\n",
        "\r\n",
        "topPurchases.show(100)"
      ]
    },
    {
      "cell_type": "code",
      "execution_count": 3,
      "outputs": [
        {
          "output_type": "display_data",
          "data": {
            "application/vnd.livy.statement-meta+json": {
              "spark_pool": "SparkPool01",
              "session_id": "8",
              "statement_id": 3,
              "state": "finished",
              "livy_statement_state": "available",
              "queued_time": "2022-12-09T13:32:56.9962701Z",
              "session_start_time": null,
              "execution_start_time": "2022-12-09T13:32:57.1489685Z",
              "execution_finish_time": "2022-12-09T13:33:01.1944265Z",
              "spark_jobs": null
            },
            "text/plain": "StatementMeta(SparkPool01, 8, 3, Finished, Available)"
          },
          "metadata": {}
        },
        {
          "output_type": "stream",
          "name": "stdout",
          "text": [
            "+------+---------+--------------------------+------------+------------------+\n|UserId|ProductId|ItemsPurchasedLast12Months|IsTopProduct|IsPreferredProduct|\n+------+---------+--------------------------+------------+------------------+\n| 90779|     4086|                        99|        true|              true|\n| 90619|     1557|                        99|        true|              true|\n| 90779|     4086|                        99|        true|              true|\n| 85007|      521|                        99|        true|              true|\n| 90779|     4086|                        99|        true|              true|\n| 89537|     1473|                        99|        true|              true|\n| 89457|      677|                        99|        true|              true|\n| 89537|     1473|                        99|        true|              true|\n| 89457|      677|                        99|        true|              true|\n| 89537|     1473|                        99|        true|              true|\n| 89457|      677|                        99|        true|              true|\n| 90804|     1709|                        99|        true|              true|\n| 89457|      677|                        99|        true|              true|\n| 90804|     1709|                        99|        true|              true|\n| 89457|      677|                        99|        true|              true|\n| 90804|     1709|                        99|        true|              true|\n| 89457|      677|                        99|        true|              true|\n| 90804|     1709|                        99|        true|              true|\n| 89457|      677|                        99|        true|              true|\n| 90804|     1709|                        99|        true|              true|\n| 89457|      677|                        99|        true|              true|\n| 80731|     3706|                        99|        true|              true|\n| 89457|      677|                        99|        true|              true|\n| 80731|     3706|                        99|        true|              true|\n| 90690|     4201|                        99|        true|              true|\n| 94571|     2353|                        99|        true|              true|\n| 90690|     4201|                        99|        true|              true|\n| 94571|     2353|                        99|        true|              true|\n| 90690|     4201|                        99|        true|              true|\n| 94571|     2353|                        99|        true|              true|\n| 90690|     4201|                        99|        true|              true|\n| 94571|     2353|                        99|        true|              true|\n| 90690|     4201|                        99|        true|              true|\n| 90524|     1526|                        99|        true|              true|\n| 90904|     1617|                        99|        true|              true|\n| 85007|      521|                        99|        true|              true|\n| 90904|     1617|                        99|        true|              true|\n| 85007|      521|                        99|        true|              true|\n| 90904|     1617|                        99|        true|              true|\n| 85007|      521|                        99|        true|              true|\n| 90904|     1617|                        99|        true|              true|\n| 98680|     4276|                        99|        true|              true|\n| 90904|     1617|                        99|        true|              true|\n| 98680|     4276|                        99|        true|              true|\n| 98302|     2486|                        99|        true|              true|\n| 98680|     4276|                        99|        true|              true|\n| 98302|     2486|                        99|        true|              true|\n| 98680|     4276|                        99|        true|              true|\n| 98302|     2486|                        99|        true|              true|\n| 81060|     4751|                        99|        true|              true|\n| 91130|     3880|                        99|        true|              true|\n| 81060|     4751|                        99|        true|              true|\n| 91130|     3880|                        99|        true|              true|\n| 83254|     3607|                        99|        true|              true|\n| 91130|     3880|                        99|        true|              true|\n| 98999|     1529|                        99|        true|              true|\n| 91540|     2947|                        99|        true|              true|\n| 94903|      628|                        99|        true|              true|\n| 91540|     2947|                        99|        true|              true|\n| 94903|      628|                        99|        true|              true|\n| 91540|     2947|                        99|        true|              true|\n| 94903|      628|                        99|        true|              true|\n| 91540|     2947|                        99|        true|              true|\n| 86204|     2410|                        99|        true|              true|\n| 91540|     2947|                        99|        true|              true|\n| 86204|     2410|                        99|        true|              true|\n| 91540|     2947|                        99|        true|              true|\n| 86204|     2410|                        99|        true|              true|\n| 91540|     2947|                        99|        true|              true|\n| 94616|     3554|                        99|        true|              true|\n| 91540|     2947|                        99|        true|              true|\n| 94616|     3554|                        99|        true|              true|\n| 91540|     2947|                        99|        true|              true|\n| 94616|     3554|                        99|        true|              true|\n| 84245|     1257|                        99|        true|              true|\n| 94616|     3554|                        99|        true|              true|\n| 84245|     1257|                        99|        true|              true|\n| 94616|     3554|                        99|        true|              true|\n| 84245|     1257|                        99|        true|              true|\n| 80762|     1308|                        99|        true|              true|\n| 81964|     3706|                        99|        true|              true|\n| 80762|     1308|                        99|        true|              true|\n| 89537|     1473|                        99|        true|              true|\n| 90536|     4272|                        99|        true|              true|\n| 89537|     1473|                        99|        true|              true|\n| 90536|     4272|                        99|        true|              true|\n| 90804|     1709|                        99|        true|              true|\n| 90536|     4272|                        99|        true|              true|\n| 90804|     1709|                        99|        true|              true|\n| 90536|     4272|                        99|        true|              true|\n| 90804|     1709|                        99|        true|              true|\n| 90536|     4272|                        99|        true|              true|\n| 80731|     3706|                        99|        true|              true|\n| 90536|     4272|                        99|        true|              true|\n| 94571|     2353|                        99|        true|              true|\n| 90536|     4272|                        99|        true|              true|\n| 94571|     2353|                        99|        true|              true|\n| 90536|     4272|                        99|        true|              true|\n| 85007|      521|                        99|        true|              true|\n| 90536|     4272|                        99|        true|              true|\n+------+---------+--------------------------+------------+------------------+\nonly showing top 100 rows\n\n"
          ]
        }
      ],
      "metadata": {
        "jupyter": {
          "source_hidden": false,
          "outputs_hidden": false
        },
        "nteract": {
          "transient": {
            "deleting": false
          }
        }
      },
      "source": [
        "from pyspark.sql.functions import *\r\n",
        "\r\n",
        "topPreferredProducts = (topPurchases\r\n",
        "    .filter( col(\"IsTopProduct\") == True)\r\n",
        "    .filter( col(\"IsPreferredProduct\") == True)\r\n",
        "    .orderBy( col(\"ItemsPurchasedLast12Months\").desc() ))\r\n",
        "\r\n",
        "topPreferredProducts.show(100)"
      ]
    },
    {
      "cell_type": "code",
      "execution_count": 4,
      "outputs": [
        {
          "output_type": "display_data",
          "data": {
            "application/vnd.livy.statement-meta+json": {
              "spark_pool": "SparkPool01",
              "session_id": "8",
              "statement_id": 4,
              "state": "finished",
              "livy_statement_state": "available",
              "queued_time": "2022-12-09T13:33:09.7719193Z",
              "session_start_time": null,
              "execution_start_time": "2022-12-09T13:33:09.9021103Z",
              "execution_finish_time": "2022-12-09T13:33:28.905929Z",
              "spark_jobs": null
            },
            "text/plain": "StatementMeta(SparkPool01, 8, 4, Finished, Available)"
          },
          "metadata": {}
        },
        {
          "output_type": "execute_result",
          "data": {
            "application/vnd.synapse.sparksql-result+json": {
              "schema": {
                "type": "struct",
                "fields": []
              },
              "data": []
            },
            "text/plain": "<Spark SQL result set with 0 rows and 0 fields>"
          },
          "execution_count": 4,
          "metadata": {}
        }
      ],
      "metadata": {
        "jupyter": {
          "source_hidden": false,
          "outputs_hidden": false
        },
        "nteract": {
          "transient": {
            "deleting": false
          }
        },
        "microsoft": {
          "language": "sparksql"
        },
        "collapsed": false
      },
      "source": [
        "%%sql\r\n",
        "\r\n",
        "CREATE OR REPLACE TEMPORARY VIEW top_5_products\r\n",
        "AS\r\n",
        "    select UserId, ProductId, ItemsPurchasedLast12Months\r\n",
        "    from (select *,\r\n",
        "                row_number() over (partition by UserId order by ItemsPurchasedLast12Months desc) as seqnum\r\n",
        "        from top_purchases\r\n",
        "        ) a\r\n",
        "    where seqnum <= 5 and IsTopProduct == true and IsPreferredProduct = true\r\n",
        "    order by a.UserId"
      ]
    },
    {
      "cell_type": "code",
      "execution_count": 5,
      "outputs": [
        {
          "output_type": "display_data",
          "data": {
            "application/vnd.livy.statement-meta+json": {
              "spark_pool": "SparkPool01",
              "session_id": "8",
              "statement_id": 5,
              "state": "finished",
              "livy_statement_state": "available",
              "queued_time": "2022-12-09T13:33:37.4060152Z",
              "session_start_time": null,
              "execution_start_time": "2022-12-09T13:33:37.536823Z",
              "execution_finish_time": "2022-12-09T13:33:46.3394919Z",
              "spark_jobs": null
            },
            "text/plain": "StatementMeta(SparkPool01, 8, 5, Finished, Available)"
          },
          "metadata": {}
        },
        {
          "output_type": "stream",
          "name": "stdout",
          "text": [
            "+------+---------+--------------------------+\n|UserId|ProductId|ItemsPurchasedLast12Months|\n+------+---------+--------------------------+\n| 80000|     2069|                        93|\n| 80000|     2069|                        93|\n| 80000|     2069|                        93|\n| 80000|     2069|                        93|\n| 80000|     2069|                        93|\n| 80001|     1812|                        93|\n| 80001|     1812|                        93|\n| 80001|     1812|                        93|\n| 80001|     1812|                        93|\n| 80001|     1812|                        93|\n| 80002|     4987|                        88|\n| 80002|     3190|                        92|\n| 80002|     3190|                        92|\n| 80002|     1256|                        90|\n| 80002|     1256|                        90|\n| 80003|      295|                        91|\n| 80003|      638|                        97|\n| 80003|      638|                        97|\n| 80003|      638|                        97|\n| 80003|      638|                        97|\n| 80004|     1528|                        78|\n| 80004|     3798|                        82|\n| 80004|     3798|                        82|\n| 80004|       44|                        86|\n| 80004|       44|                        86|\n| 80005|     4678|                        84|\n| 80005|     4678|                        84|\n| 80005|     4678|                        84|\n| 80005|     4678|                        84|\n| 80005|     4678|                        84|\n| 80006|     2133|                        94|\n| 80006|     2133|                        94|\n| 80006|     2133|                        94|\n| 80006|     4068|                        80|\n| 80006|     2133|                        94|\n| 80007|     1893|                        82|\n| 80007|     4430|                        81|\n| 80007|     3959|                        97|\n| 80007|     3280|                        86|\n| 80007|     1083|                        79|\n| 80008|     1812|                        65|\n| 80008|     1812|                        65|\n| 80008|     1812|                        65|\n| 80008|     1812|                        65|\n| 80008|     1812|                        65|\n| 80009|      412|                        91|\n| 80009|      412|                        91|\n| 80009|     1115|                        90|\n| 80009|      412|                        91|\n| 80009|      412|                        91|\n| 80010|      715|                        80|\n| 80010|      715|                        80|\n| 80010|      715|                        80|\n| 80010|      715|                        80|\n| 80010|      715|                        80|\n| 80011|     3852|                        98|\n| 80011|     3852|                        98|\n| 80011|     3852|                        98|\n| 80011|     3852|                        98|\n| 80011|     3852|                        98|\n| 80012|     3516|                        97|\n| 80012|     3516|                        97|\n| 80012|     3516|                        97|\n| 80012|     3516|                        97|\n| 80012|     3516|                        97|\n| 80013|     3184|                        69|\n| 80013|     3184|                        69|\n| 80013|     3184|                        69|\n| 80013|     3184|                        69|\n| 80013|     3184|                        69|\n| 80014|     4936|                        97|\n| 80014|     4936|                        97|\n| 80014|     4936|                        97|\n| 80014|     4936|                        97|\n| 80014|     4936|                        97|\n| 80015|      584|                        85|\n| 80015|      584|                        85|\n| 80015|      584|                        85|\n| 80015|      584|                        85|\n| 80015|      584|                        85|\n| 80016|     4520|                        89|\n| 80016|     4520|                        89|\n| 80016|     4520|                        89|\n| 80016|     4520|                        89|\n| 80016|     4520|                        89|\n| 80018|     2506|                        97|\n| 80018|     2506|                        97|\n| 80018|     2506|                        97|\n| 80018|     2506|                        97|\n| 80018|     2506|                        97|\n| 80019|     3349|                        86|\n| 80019|     3349|                        86|\n| 80019|     3349|                        86|\n| 80019|     3349|                        86|\n| 80019|     3349|                        86|\n| 80020|     2649|                        89|\n| 80020|     2649|                        89|\n| 80020|     2649|                        89|\n| 80020|     2649|                        89|\n| 80020|     2649|                        89|\n+------+---------+--------------------------+\nonly showing top 100 rows\n\n"
          ]
        }
      ],
      "metadata": {
        "jupyter": {
          "source_hidden": false,
          "outputs_hidden": false
        },
        "nteract": {
          "transient": {
            "deleting": false
          }
        }
      },
      "source": [
        "top5Products = sqlContext.table(\"top_5_products\")\r\n",
        "\r\n",
        "top5Products.show(100)"
      ]
    },
    {
      "cell_type": "code",
      "execution_count": 6,
      "outputs": [
        {
          "output_type": "display_data",
          "data": {
            "application/vnd.livy.statement-meta+json": {
              "spark_pool": "SparkPool01",
              "session_id": "8",
              "statement_id": 6,
              "state": "finished",
              "livy_statement_state": "available",
              "queued_time": "2022-12-09T13:33:56.0121298Z",
              "session_start_time": null,
              "execution_start_time": "2022-12-09T13:33:56.1527864Z",
              "execution_finish_time": "2022-12-09T13:34:08.9695039Z",
              "spark_jobs": null
            },
            "text/plain": "StatementMeta(SparkPool01, 8, 6, Finished, Available)"
          },
          "metadata": {}
        },
        {
          "output_type": "stream",
          "name": "stdout",
          "text": [
            "before filter:  930572 , after filter:  79333\n"
          ]
        }
      ],
      "metadata": {
        "jupyter": {
          "source_hidden": false,
          "outputs_hidden": false
        },
        "nteract": {
          "transient": {
            "deleting": false
          }
        }
      },
      "source": [
        "print('before filter: ', topPreferredProducts.count(), ', after filter: ', top5Products.count())"
      ]
    },
    {
      "cell_type": "code",
      "execution_count": 7,
      "outputs": [
        {
          "output_type": "display_data",
          "data": {
            "application/vnd.livy.statement-meta+json": {
              "spark_pool": "SparkPool01",
              "session_id": "8",
              "statement_id": 7,
              "state": "finished",
              "livy_statement_state": "available",
              "queued_time": "2022-12-09T13:34:19.5014518Z",
              "session_start_time": null,
              "execution_start_time": "2022-12-09T13:34:19.6533223Z",
              "execution_finish_time": "2022-12-09T13:34:32.4715836Z",
              "spark_jobs": null
            },
            "text/plain": "StatementMeta(SparkPool01, 8, 7, Finished, Available)"
          },
          "metadata": {}
        },
        {
          "output_type": "stream",
          "name": "stdout",
          "text": [
            "+---------+-----+\n|ProductId|Total|\n+---------+-----+\n|     2107| 4538|\n|     3459| 4233|\n|      347| 4148|\n|     2746| 4067|\n|     1262| 3974|\n+---------+-----+\n\n"
          ]
        }
      ],
      "metadata": {
        "jupyter": {
          "source_hidden": false,
          "outputs_hidden": false
        },
        "nteract": {
          "transient": {
            "deleting": false
          }
        }
      },
      "source": [
        "top5ProductsOverall = (top5Products.select(\"ProductId\",\"ItemsPurchasedLast12Months\")\r\n",
        "    .groupBy(\"ProductId\")\r\n",
        "    .agg( sum(\"ItemsPurchasedLast12Months\").alias(\"Total\") )\r\n",
        "    .orderBy( col(\"Total\").desc() )\r\n",
        "    .limit(5))\r\n",
        "\r\n",
        "top5ProductsOverall.show()"
      ]
    },
    {
      "cell_type": "code",
      "execution_count": 8,
      "outputs": [
        {
          "output_type": "display_data",
          "data": {
            "application/vnd.livy.statement-meta+json": {
              "spark_pool": "SparkPool01",
              "session_id": "8",
              "statement_id": 8,
              "state": "finished",
              "livy_statement_state": "available",
              "queued_time": "2022-12-09T13:34:40.7125356Z",
              "session_start_time": null,
              "execution_start_time": "2022-12-09T13:34:40.8847779Z",
              "execution_finish_time": "2022-12-09T13:34:41.0960857Z",
              "spark_jobs": null
            },
            "text/plain": "StatementMeta(SparkPool01, 8, 8, Finished, Available)"
          },
          "metadata": {}
        }
      ],
      "metadata": {
        "jupyter": {
          "source_hidden": false,
          "outputs_hidden": false
        },
        "nteract": {
          "transient": {
            "deleting": false
          }
        },
        "tags": [
          "parameters"
        ]
      },
      "source": [
        "import uuid\r\n",
        "\r\n",
        "# Generate random GUID\r\n",
        "runId = uuid.uuid4()"
      ]
    },
    {
      "cell_type": "code",
      "execution_count": 9,
      "outputs": [
        {
          "output_type": "display_data",
          "data": {
            "application/vnd.livy.statement-meta+json": {
              "spark_pool": "SparkPool01",
              "session_id": "8",
              "statement_id": 9,
              "state": "finished",
              "livy_statement_state": "available",
              "queued_time": "2022-12-09T13:35:07.5407947Z",
              "session_start_time": null,
              "execution_start_time": "2022-12-09T13:35:07.6714937Z",
              "execution_finish_time": "2022-12-09T13:35:18.3876378Z",
              "spark_jobs": null
            },
            "text/plain": "StatementMeta(SparkPool01, 8, 9, Finished, Available)"
          },
          "metadata": {}
        }
      ],
      "metadata": {
        "jupyter": {
          "source_hidden": false,
          "outputs_hidden": false
        },
        "nteract": {
          "transient": {
            "deleting": false
          }
        },
        "microsoft": {
          "language": "python"
        }
      },
      "source": [
        "%%pyspark\r\n",
        "\r\n",
        "top5ProductsOverall.write.parquet('abfss://wwi-02@asadatalakeg3xbtcv.dfs.core.windows.net/top5-products/' + str(runId) + '.parquet')"
      ]
    }
  ]
}